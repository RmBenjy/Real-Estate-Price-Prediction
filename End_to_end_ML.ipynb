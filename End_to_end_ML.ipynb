{
  "cells": [
    {
      "cell_type": "markdown",
      "metadata": {
        "id": "ylFAJZpBq0l8"
      },
      "source": [
        "# Build the model"
      ]
    },
    {
      "cell_type": "code",
      "execution_count": 2,
      "metadata": {
        "id": "ST-GD9BuozO5"
      },
      "outputs": [],
      "source": [
        "import pandas as pd\n",
        "\n",
        "from sklearn.model_selection import train_test_split\n",
        "from sklearn.linear_model import LinearRegression\n",
        "from sklearn.metrics import r2_score, mean_squared_error"
      ]
    },
    {
      "cell_type": "code",
      "execution_count": 3,
      "metadata": {
        "id": "fpP6UQ2UpdwG"
      },
      "outputs": [],
      "source": [
        "real_estate_data = pd.read_csv(\"C:/Users/reda-/Downloads/Real_Estate.csv\")"
      ]
    },
    {
      "cell_type": "code",
      "execution_count": 4,
      "metadata": {
        "colab": {
          "base_uri": "https://localhost:8080/",
          "height": 206
        },
        "id": "OPXT4M_MpkIy",
        "outputId": "7eaebae0-10cd-4a95-d0a4-e0856c1c9561"
      },
      "outputs": [
        {
          "data": {
            "text/html": [
              "<div>\n",
              "<style scoped>\n",
              "    .dataframe tbody tr th:only-of-type {\n",
              "        vertical-align: middle;\n",
              "    }\n",
              "\n",
              "    .dataframe tbody tr th {\n",
              "        vertical-align: top;\n",
              "    }\n",
              "\n",
              "    .dataframe thead th {\n",
              "        text-align: right;\n",
              "    }\n",
              "</style>\n",
              "<table border=\"1\" class=\"dataframe\">\n",
              "  <thead>\n",
              "    <tr style=\"text-align: right;\">\n",
              "      <th></th>\n",
              "      <th>Transaction date</th>\n",
              "      <th>House age</th>\n",
              "      <th>Distance to the nearest MRT station</th>\n",
              "      <th>Number of convenience stores</th>\n",
              "      <th>Latitude</th>\n",
              "      <th>Longitude</th>\n",
              "      <th>House price of unit area</th>\n",
              "    </tr>\n",
              "  </thead>\n",
              "  <tbody>\n",
              "    <tr>\n",
              "      <th>0</th>\n",
              "      <td>2012-09-02 16:42:30.519336</td>\n",
              "      <td>13.3</td>\n",
              "      <td>4082.0150</td>\n",
              "      <td>8</td>\n",
              "      <td>25.007059</td>\n",
              "      <td>121.561694</td>\n",
              "      <td>6.488673</td>\n",
              "    </tr>\n",
              "    <tr>\n",
              "      <th>1</th>\n",
              "      <td>2012-09-04 22:52:29.919544</td>\n",
              "      <td>35.5</td>\n",
              "      <td>274.0144</td>\n",
              "      <td>2</td>\n",
              "      <td>25.012148</td>\n",
              "      <td>121.546990</td>\n",
              "      <td>24.970725</td>\n",
              "    </tr>\n",
              "    <tr>\n",
              "      <th>2</th>\n",
              "      <td>2012-09-05 01:10:52.349449</td>\n",
              "      <td>1.1</td>\n",
              "      <td>1978.6710</td>\n",
              "      <td>10</td>\n",
              "      <td>25.003850</td>\n",
              "      <td>121.528336</td>\n",
              "      <td>26.694267</td>\n",
              "    </tr>\n",
              "    <tr>\n",
              "      <th>3</th>\n",
              "      <td>2012-09-05 13:26:01.189083</td>\n",
              "      <td>22.2</td>\n",
              "      <td>1055.0670</td>\n",
              "      <td>5</td>\n",
              "      <td>24.962887</td>\n",
              "      <td>121.482178</td>\n",
              "      <td>38.091638</td>\n",
              "    </tr>\n",
              "    <tr>\n",
              "      <th>4</th>\n",
              "      <td>2012-09-06 08:29:47.910523</td>\n",
              "      <td>8.5</td>\n",
              "      <td>967.4000</td>\n",
              "      <td>6</td>\n",
              "      <td>25.011037</td>\n",
              "      <td>121.479946</td>\n",
              "      <td>21.654710</td>\n",
              "    </tr>\n",
              "  </tbody>\n",
              "</table>\n",
              "</div>"
            ],
            "text/plain": [
              "             Transaction date  House age  Distance to the nearest MRT station  \\\n",
              "0  2012-09-02 16:42:30.519336       13.3                            4082.0150   \n",
              "1  2012-09-04 22:52:29.919544       35.5                             274.0144   \n",
              "2  2012-09-05 01:10:52.349449        1.1                            1978.6710   \n",
              "3  2012-09-05 13:26:01.189083       22.2                            1055.0670   \n",
              "4  2012-09-06 08:29:47.910523        8.5                             967.4000   \n",
              "\n",
              "   Number of convenience stores   Latitude   Longitude  \\\n",
              "0                             8  25.007059  121.561694   \n",
              "1                             2  25.012148  121.546990   \n",
              "2                            10  25.003850  121.528336   \n",
              "3                             5  24.962887  121.482178   \n",
              "4                             6  25.011037  121.479946   \n",
              "\n",
              "   House price of unit area  \n",
              "0                  6.488673  \n",
              "1                 24.970725  \n",
              "2                 26.694267  \n",
              "3                 38.091638  \n",
              "4                 21.654710  "
            ]
          },
          "execution_count": 4,
          "metadata": {},
          "output_type": "execute_result"
        }
      ],
      "source": [
        "real_estate_data.head()"
      ]
    },
    {
      "cell_type": "markdown",
      "metadata": {
        "id": "OivjDtdlqNAj"
      },
      "source": [
        "### Select features and target variables"
      ]
    },
    {
      "cell_type": "code",
      "execution_count": 5,
      "metadata": {
        "id": "NmFctMbnpofE"
      },
      "outputs": [],
      "source": [
        "features = [\"Distance to the nearest MRT station\", \"Number of convenience stores\", \"Latitude\", \"Longitude\"]\n",
        "target = \"House price of unit area\""
      ]
    },
    {
      "cell_type": "code",
      "execution_count": 6,
      "metadata": {
        "id": "OMO7d1nlqBoU"
      },
      "outputs": [],
      "source": [
        "X = real_estate_data[features]\n",
        "y= real_estate_data[target]"
      ]
    },
    {
      "cell_type": "markdown",
      "metadata": {
        "id": "4D4OzDRsqTR_"
      },
      "source": [
        "### Split the dataset"
      ]
    },
    {
      "cell_type": "code",
      "execution_count": 7,
      "metadata": {
        "id": "8Eas-SVuqJW6"
      },
      "outputs": [],
      "source": [
        "X_train, X_test, y_train, y_test = train_test_split(X, y, test_size=0.2, random_state=42)"
      ]
    },
    {
      "cell_type": "markdown",
      "metadata": {
        "id": "lyY2H8zfqkAX"
      },
      "source": [
        "### Initialize and fit the model"
      ]
    },
    {
      "cell_type": "code",
      "execution_count": 8,
      "metadata": {
        "colab": {
          "base_uri": "https://localhost:8080/",
          "height": 74
        },
        "id": "tsVi2vAtqhIk",
        "outputId": "3ce051b0-842d-4d5e-c6a8-36efd212db59"
      },
      "outputs": [
        {
          "data": {
            "text/html": [
              "<style>#sk-container-id-1 {color: black;}#sk-container-id-1 pre{padding: 0;}#sk-container-id-1 div.sk-toggleable {background-color: white;}#sk-container-id-1 label.sk-toggleable__label {cursor: pointer;display: block;width: 100%;margin-bottom: 0;padding: 0.3em;box-sizing: border-box;text-align: center;}#sk-container-id-1 label.sk-toggleable__label-arrow:before {content: \"▸\";float: left;margin-right: 0.25em;color: #696969;}#sk-container-id-1 label.sk-toggleable__label-arrow:hover:before {color: black;}#sk-container-id-1 div.sk-estimator:hover label.sk-toggleable__label-arrow:before {color: black;}#sk-container-id-1 div.sk-toggleable__content {max-height: 0;max-width: 0;overflow: hidden;text-align: left;background-color: #f0f8ff;}#sk-container-id-1 div.sk-toggleable__content pre {margin: 0.2em;color: black;border-radius: 0.25em;background-color: #f0f8ff;}#sk-container-id-1 input.sk-toggleable__control:checked~div.sk-toggleable__content {max-height: 200px;max-width: 100%;overflow: auto;}#sk-container-id-1 input.sk-toggleable__control:checked~label.sk-toggleable__label-arrow:before {content: \"▾\";}#sk-container-id-1 div.sk-estimator input.sk-toggleable__control:checked~label.sk-toggleable__label {background-color: #d4ebff;}#sk-container-id-1 div.sk-label input.sk-toggleable__control:checked~label.sk-toggleable__label {background-color: #d4ebff;}#sk-container-id-1 input.sk-hidden--visually {border: 0;clip: rect(1px 1px 1px 1px);clip: rect(1px, 1px, 1px, 1px);height: 1px;margin: -1px;overflow: hidden;padding: 0;position: absolute;width: 1px;}#sk-container-id-1 div.sk-estimator {font-family: monospace;background-color: #f0f8ff;border: 1px dotted black;border-radius: 0.25em;box-sizing: border-box;margin-bottom: 0.5em;}#sk-container-id-1 div.sk-estimator:hover {background-color: #d4ebff;}#sk-container-id-1 div.sk-parallel-item::after {content: \"\";width: 100%;border-bottom: 1px solid gray;flex-grow: 1;}#sk-container-id-1 div.sk-label:hover label.sk-toggleable__label {background-color: #d4ebff;}#sk-container-id-1 div.sk-serial::before {content: \"\";position: absolute;border-left: 1px solid gray;box-sizing: border-box;top: 0;bottom: 0;left: 50%;z-index: 0;}#sk-container-id-1 div.sk-serial {display: flex;flex-direction: column;align-items: center;background-color: white;padding-right: 0.2em;padding-left: 0.2em;position: relative;}#sk-container-id-1 div.sk-item {position: relative;z-index: 1;}#sk-container-id-1 div.sk-parallel {display: flex;align-items: stretch;justify-content: center;background-color: white;position: relative;}#sk-container-id-1 div.sk-item::before, #sk-container-id-1 div.sk-parallel-item::before {content: \"\";position: absolute;border-left: 1px solid gray;box-sizing: border-box;top: 0;bottom: 0;left: 50%;z-index: -1;}#sk-container-id-1 div.sk-parallel-item {display: flex;flex-direction: column;z-index: 1;position: relative;background-color: white;}#sk-container-id-1 div.sk-parallel-item:first-child::after {align-self: flex-end;width: 50%;}#sk-container-id-1 div.sk-parallel-item:last-child::after {align-self: flex-start;width: 50%;}#sk-container-id-1 div.sk-parallel-item:only-child::after {width: 0;}#sk-container-id-1 div.sk-dashed-wrapped {border: 1px dashed gray;margin: 0 0.4em 0.5em 0.4em;box-sizing: border-box;padding-bottom: 0.4em;background-color: white;}#sk-container-id-1 div.sk-label label {font-family: monospace;font-weight: bold;display: inline-block;line-height: 1.2em;}#sk-container-id-1 div.sk-label-container {text-align: center;}#sk-container-id-1 div.sk-container {/* jupyter's `normalize.less` sets `[hidden] { display: none; }` but bootstrap.min.css set `[hidden] { display: none !important; }` so we also need the `!important` here to be able to override the default hidden behavior on the sphinx rendered scikit-learn.org. See: https://github.com/scikit-learn/scikit-learn/issues/21755 */display: inline-block !important;position: relative;}#sk-container-id-1 div.sk-text-repr-fallback {display: none;}</style><div id=\"sk-container-id-1\" class=\"sk-top-container\"><div class=\"sk-text-repr-fallback\"><pre>LinearRegression()</pre><b>In a Jupyter environment, please rerun this cell to show the HTML representation or trust the notebook. <br />On GitHub, the HTML representation is unable to render, please try loading this page with nbviewer.org.</b></div><div class=\"sk-container\" hidden><div class=\"sk-item\"><div class=\"sk-estimator sk-toggleable\"><input class=\"sk-toggleable__control sk-hidden--visually\" id=\"sk-estimator-id-1\" type=\"checkbox\" checked><label for=\"sk-estimator-id-1\" class=\"sk-toggleable__label sk-toggleable__label-arrow\">LinearRegression</label><div class=\"sk-toggleable__content\"><pre>LinearRegression()</pre></div></div></div></div></div>"
            ],
            "text/plain": [
              "LinearRegression()"
            ]
          },
          "execution_count": 8,
          "metadata": {},
          "output_type": "execute_result"
        }
      ],
      "source": [
        "model = LinearRegression()\n",
        "model.fit(X_train,y_train)"
      ]
    },
    {
      "cell_type": "markdown",
      "metadata": {
        "id": "C2B0EY-Qq3RF"
      },
      "source": [
        "# Build dash app"
      ]
    },
    {
      "cell_type": "code",
      "execution_count": null,
      "metadata": {
        "colab": {
          "base_uri": "https://localhost:8080/"
        },
        "collapsed": true,
        "id": "sBbno6_9rDo9",
        "outputId": "05ab7a45-5cf7-409d-c8b1-c62bb4be60af"
      },
      "outputs": [],
      "source": [
        "!pip install dash"
      ]
    },
    {
      "cell_type": "code",
      "execution_count": 9,
      "metadata": {
        "id": "KPga3QElqtgE"
      },
      "outputs": [],
      "source": [
        "import dash\n",
        "from dash import html, dcc, Input, Output, State"
      ]
    },
    {
      "cell_type": "code",
      "execution_count": 16,
      "metadata": {
        "id": "r5driwJWq-Ts"
      },
      "outputs": [],
      "source": [
        "# Initialize the Dash app\n",
        "app = dash.Dash(__name__)"
      ]
    },
    {
      "cell_type": "code",
      "execution_count": 17,
      "metadata": {
        "id": "WMFKoV5YrNwo"
      },
      "outputs": [],
      "source": [
        "# Define the layout of the app\n",
        "app.layout = html.Div([\n",
        "    html.Div([\n",
        "        html.H1(\"Real Estate Price Prediction\", style={'text-align': 'center'}),\n",
        "\n",
        "        html.Div([\n",
        "            dcc.Input(id='distance_to_mrt', type='number', placeholder='Distance to MRT Station (meters)',\n",
        "                      style={'margin': '10px', 'padding': '10px'}),\n",
        "            dcc.Input(id='num_convenience_stores', type='number', placeholder='Number of Convenience Stores',\n",
        "                      style={'margin': '10px', 'padding': '10px'}),\n",
        "            dcc.Input(id='latitude', type='number', placeholder='Latitude',\n",
        "                      style={'margin': '10px', 'padding': '10px'}),\n",
        "            dcc.Input(id='longitude', type='number', placeholder='Longitude',\n",
        "                      style={'margin': '10px', 'padding': '10px'}),\n",
        "            html.Button('Predict Price', id='predict_button', n_clicks=0,\n",
        "                        style={'margin': '10px', 'padding': '10px', 'background-color': '#007BFF', 'color': 'white'}),\n",
        "        ], style={'text-align': 'center'}),\n",
        "\n",
        "        html.Div(id='prediction_output', style={'text-align': 'center', 'font-size': '20px', 'margin-top': '20px'})\n",
        "    ], style={'width': '50%', 'margin': '0 auto', 'border': '2px solid #007BFF', 'padding': '20px', 'border-radius': '10px'})\n",
        "])"
      ]
    },
    {
      "cell_type": "code",
      "execution_count": 18,
      "metadata": {
        "id": "WeGUvwOfrfdq"
      },
      "outputs": [],
      "source": [
        "# Define callback to update output\n",
        "@app.callback(\n",
        "    Output('prediction_output', 'children'),\n",
        "    [Input('predict_button', 'n_clicks')],\n",
        "    [State('distance_to_mrt', 'value'),\n",
        "     State('num_convenience_stores', 'value'),\n",
        "     State('latitude', 'value'),\n",
        "     State('longitude', 'value')]\n",
        ")\n",
        "def update_output(n_clicks, distance_to_mrt, num_convenience_stores, latitude, longitude):\n",
        "    if n_clicks > 0 and all(v is not None for v in [distance_to_mrt, num_convenience_stores, latitude, longitude]):\n",
        "        # Prepare the feature vector\n",
        "        features = pd.DataFrame([[distance_to_mrt, num_convenience_stores, latitude, longitude]],\n",
        "                                columns=['Distance to the nearest MRT station', 'Number of convenience stores', 'Latitude', 'Longitude'])\n",
        "        # Predict\n",
        "        prediction = model.predict(features)[0]\n",
        "        return f'Predicted House Price of Unit Area: {prediction:.2f}'\n",
        "    elif n_clicks > 0:\n",
        "        return 'Please enter all values to get a prediction'\n",
        "    return ''"
      ]
    },
    {
      "cell_type": "code",
      "execution_count": 19,
      "metadata": {
        "colab": {
          "base_uri": "https://localhost:8080/",
          "height": 672
        },
        "id": "yGwW71CSrzfX",
        "outputId": "ed50e05c-abba-4de7-da6a-05b661bfb4e5"
      },
      "outputs": [
        {
          "data": {
            "text/html": [
              "\n",
              "        <iframe\n",
              "            width=\"100%\"\n",
              "            height=\"650\"\n",
              "            src=\"http://127.0.0.1:8050/\"\n",
              "            frameborder=\"0\"\n",
              "            allowfullscreen\n",
              "            \n",
              "        ></iframe>\n",
              "        "
            ],
            "text/plain": [
              "<IPython.lib.display.IFrame at 0x28c22624c90>"
            ]
          },
          "metadata": {},
          "output_type": "display_data"
        }
      ],
      "source": [
        "if __name__ == '__main__':\n",
        "    app.run_server(debug=True)"
      ]
    },
    {
      "cell_type": "code",
      "execution_count": null,
      "metadata": {
        "id": "sdopovREsya_"
      },
      "outputs": [],
      "source": []
    },
    {
      "cell_type": "markdown",
      "metadata": {},
      "source": []
    }
  ],
  "metadata": {
    "colab": {
      "provenance": []
    },
    "kernelspec": {
      "display_name": "Python 3",
      "name": "python3"
    },
    "language_info": {
      "codemirror_mode": {
        "name": "ipython",
        "version": 3
      },
      "file_extension": ".py",
      "mimetype": "text/x-python",
      "name": "python",
      "nbconvert_exporter": "python",
      "pygments_lexer": "ipython3",
      "version": "3.11.2"
    }
  },
  "nbformat": 4,
  "nbformat_minor": 0
}
